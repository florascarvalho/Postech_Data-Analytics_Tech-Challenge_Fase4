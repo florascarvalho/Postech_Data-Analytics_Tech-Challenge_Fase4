{
  "nbformat": 4,
  "nbformat_minor": 0,
  "metadata": {
    "colab": {
      "provenance": [],
      "toc_visible": true
    },
    "kernelspec": {
      "name": "python3",
      "display_name": "Python 3"
    },
    "language_info": {
      "name": "python"
    }
  },
  "cells": [
    {
      "cell_type": "markdown",
      "source": [
        "# **Machine Learning - Tech Challenge_Fase 04 - Grupo 44**\n",
        "Aluna responsável: Flora Serafim de Carvalho | RM354000"
      ],
      "metadata": {
        "id": "neHIu0tSX9b1"
      }
    },
    {
      "cell_type": "markdown",
      "source": [
        "## Lendo a base de dados\n",
        "Antes de iniciarmos o processamento, a primeira etapa consiste em trazer as informações da nossa base de dados. Ela foi consolidada em um arquivo \".csv\", usando como base os dados disponibilizados pelo [IPEA](http://www.ipeadata.gov.br/ExibeSerie.aspx?module=m&serid=1650971490&oper=view), na qual traz o evolutivo diário do preço por barril do petróleo bruto tipo Brent.\n",
        "\n",
        "As informações compreendem o período entre 20/05/1987 e 03/02/2025.\n"
      ],
      "metadata": {
        "id": "pz98Q_EN81eQ"
      }
    },
    {
      "cell_type": "code",
      "source": [
        "import pandas as pd"
      ],
      "metadata": {
        "id": "uY51hLFN5y00"
      },
      "execution_count": null,
      "outputs": []
    },
    {
      "cell_type": "code",
      "source": [
        "preco_petroleo_brent = pd.read_csv('https://raw.githubusercontent.com/florascarvalho/Postech_Data-Analytics_Tech-Challenge_Fase4/main/bases_dados/preco_petroleo_brent.csv', sep=\";\", decimal =\",\")\n",
        "preco_petroleo_brent[\"data_dia\"] = pd.to_datetime(preco_petroleo_brent[\"data_dia\"], format=\"%d/%m/%Y\")\n",
        "preco_petroleo_brent.head()"
      ],
      "metadata": {
        "id": "yh5eSgGx7LpP",
        "colab": {
          "base_uri": "https://localhost:8080/",
          "height": 206
        },
        "outputId": "1c8ecef1-3309-458c-af5f-d3d66a24f8ae"
      },
      "execution_count": null,
      "outputs": [
        {
          "output_type": "execute_result",
          "data": {
            "text/plain": [
              "    data_dia  preco_petroleo_bruto_Brent_FOB\n",
              "0 2025-02-03                           76.49\n",
              "1 2025-01-31                           77.11\n",
              "2 2025-01-30                           77.42\n",
              "3 2025-01-29                           77.02\n",
              "4 2025-01-28                           78.01"
            ],
            "text/html": [
              "\n",
              "  <div id=\"df-4c21f37e-bff1-4545-8ec7-148b0a734850\" class=\"colab-df-container\">\n",
              "    <div>\n",
              "<style scoped>\n",
              "    .dataframe tbody tr th:only-of-type {\n",
              "        vertical-align: middle;\n",
              "    }\n",
              "\n",
              "    .dataframe tbody tr th {\n",
              "        vertical-align: top;\n",
              "    }\n",
              "\n",
              "    .dataframe thead th {\n",
              "        text-align: right;\n",
              "    }\n",
              "</style>\n",
              "<table border=\"1\" class=\"dataframe\">\n",
              "  <thead>\n",
              "    <tr style=\"text-align: right;\">\n",
              "      <th></th>\n",
              "      <th>data_dia</th>\n",
              "      <th>preco_petroleo_bruto_Brent_FOB</th>\n",
              "    </tr>\n",
              "  </thead>\n",
              "  <tbody>\n",
              "    <tr>\n",
              "      <th>0</th>\n",
              "      <td>2025-02-03</td>\n",
              "      <td>76.49</td>\n",
              "    </tr>\n",
              "    <tr>\n",
              "      <th>1</th>\n",
              "      <td>2025-01-31</td>\n",
              "      <td>77.11</td>\n",
              "    </tr>\n",
              "    <tr>\n",
              "      <th>2</th>\n",
              "      <td>2025-01-30</td>\n",
              "      <td>77.42</td>\n",
              "    </tr>\n",
              "    <tr>\n",
              "      <th>3</th>\n",
              "      <td>2025-01-29</td>\n",
              "      <td>77.02</td>\n",
              "    </tr>\n",
              "    <tr>\n",
              "      <th>4</th>\n",
              "      <td>2025-01-28</td>\n",
              "      <td>78.01</td>\n",
              "    </tr>\n",
              "  </tbody>\n",
              "</table>\n",
              "</div>\n",
              "    <div class=\"colab-df-buttons\">\n",
              "\n",
              "  <div class=\"colab-df-container\">\n",
              "    <button class=\"colab-df-convert\" onclick=\"convertToInteractive('df-4c21f37e-bff1-4545-8ec7-148b0a734850')\"\n",
              "            title=\"Convert this dataframe to an interactive table.\"\n",
              "            style=\"display:none;\">\n",
              "\n",
              "  <svg xmlns=\"http://www.w3.org/2000/svg\" height=\"24px\" viewBox=\"0 -960 960 960\">\n",
              "    <path d=\"M120-120v-720h720v720H120Zm60-500h600v-160H180v160Zm220 220h160v-160H400v160Zm0 220h160v-160H400v160ZM180-400h160v-160H180v160Zm440 0h160v-160H620v160ZM180-180h160v-160H180v160Zm440 0h160v-160H620v160Z\"/>\n",
              "  </svg>\n",
              "    </button>\n",
              "\n",
              "  <style>\n",
              "    .colab-df-container {\n",
              "      display:flex;\n",
              "      gap: 12px;\n",
              "    }\n",
              "\n",
              "    .colab-df-convert {\n",
              "      background-color: #E8F0FE;\n",
              "      border: none;\n",
              "      border-radius: 50%;\n",
              "      cursor: pointer;\n",
              "      display: none;\n",
              "      fill: #1967D2;\n",
              "      height: 32px;\n",
              "      padding: 0 0 0 0;\n",
              "      width: 32px;\n",
              "    }\n",
              "\n",
              "    .colab-df-convert:hover {\n",
              "      background-color: #E2EBFA;\n",
              "      box-shadow: 0px 1px 2px rgba(60, 64, 67, 0.3), 0px 1px 3px 1px rgba(60, 64, 67, 0.15);\n",
              "      fill: #174EA6;\n",
              "    }\n",
              "\n",
              "    .colab-df-buttons div {\n",
              "      margin-bottom: 4px;\n",
              "    }\n",
              "\n",
              "    [theme=dark] .colab-df-convert {\n",
              "      background-color: #3B4455;\n",
              "      fill: #D2E3FC;\n",
              "    }\n",
              "\n",
              "    [theme=dark] .colab-df-convert:hover {\n",
              "      background-color: #434B5C;\n",
              "      box-shadow: 0px 1px 3px 1px rgba(0, 0, 0, 0.15);\n",
              "      filter: drop-shadow(0px 1px 2px rgba(0, 0, 0, 0.3));\n",
              "      fill: #FFFFFF;\n",
              "    }\n",
              "  </style>\n",
              "\n",
              "    <script>\n",
              "      const buttonEl =\n",
              "        document.querySelector('#df-4c21f37e-bff1-4545-8ec7-148b0a734850 button.colab-df-convert');\n",
              "      buttonEl.style.display =\n",
              "        google.colab.kernel.accessAllowed ? 'block' : 'none';\n",
              "\n",
              "      async function convertToInteractive(key) {\n",
              "        const element = document.querySelector('#df-4c21f37e-bff1-4545-8ec7-148b0a734850');\n",
              "        const dataTable =\n",
              "          await google.colab.kernel.invokeFunction('convertToInteractive',\n",
              "                                                    [key], {});\n",
              "        if (!dataTable) return;\n",
              "\n",
              "        const docLinkHtml = 'Like what you see? Visit the ' +\n",
              "          '<a target=\"_blank\" href=https://colab.research.google.com/notebooks/data_table.ipynb>data table notebook</a>'\n",
              "          + ' to learn more about interactive tables.';\n",
              "        element.innerHTML = '';\n",
              "        dataTable['output_type'] = 'display_data';\n",
              "        await google.colab.output.renderOutput(dataTable, element);\n",
              "        const docLink = document.createElement('div');\n",
              "        docLink.innerHTML = docLinkHtml;\n",
              "        element.appendChild(docLink);\n",
              "      }\n",
              "    </script>\n",
              "  </div>\n",
              "\n",
              "\n",
              "<div id=\"df-73ebecb9-46db-445b-b76e-34b7fdde25ea\">\n",
              "  <button class=\"colab-df-quickchart\" onclick=\"quickchart('df-73ebecb9-46db-445b-b76e-34b7fdde25ea')\"\n",
              "            title=\"Suggest charts\"\n",
              "            style=\"display:none;\">\n",
              "\n",
              "<svg xmlns=\"http://www.w3.org/2000/svg\" height=\"24px\"viewBox=\"0 0 24 24\"\n",
              "     width=\"24px\">\n",
              "    <g>\n",
              "        <path d=\"M19 3H5c-1.1 0-2 .9-2 2v14c0 1.1.9 2 2 2h14c1.1 0 2-.9 2-2V5c0-1.1-.9-2-2-2zM9 17H7v-7h2v7zm4 0h-2V7h2v10zm4 0h-2v-4h2v4z\"/>\n",
              "    </g>\n",
              "</svg>\n",
              "  </button>\n",
              "\n",
              "<style>\n",
              "  .colab-df-quickchart {\n",
              "      --bg-color: #E8F0FE;\n",
              "      --fill-color: #1967D2;\n",
              "      --hover-bg-color: #E2EBFA;\n",
              "      --hover-fill-color: #174EA6;\n",
              "      --disabled-fill-color: #AAA;\n",
              "      --disabled-bg-color: #DDD;\n",
              "  }\n",
              "\n",
              "  [theme=dark] .colab-df-quickchart {\n",
              "      --bg-color: #3B4455;\n",
              "      --fill-color: #D2E3FC;\n",
              "      --hover-bg-color: #434B5C;\n",
              "      --hover-fill-color: #FFFFFF;\n",
              "      --disabled-bg-color: #3B4455;\n",
              "      --disabled-fill-color: #666;\n",
              "  }\n",
              "\n",
              "  .colab-df-quickchart {\n",
              "    background-color: var(--bg-color);\n",
              "    border: none;\n",
              "    border-radius: 50%;\n",
              "    cursor: pointer;\n",
              "    display: none;\n",
              "    fill: var(--fill-color);\n",
              "    height: 32px;\n",
              "    padding: 0;\n",
              "    width: 32px;\n",
              "  }\n",
              "\n",
              "  .colab-df-quickchart:hover {\n",
              "    background-color: var(--hover-bg-color);\n",
              "    box-shadow: 0 1px 2px rgba(60, 64, 67, 0.3), 0 1px 3px 1px rgba(60, 64, 67, 0.15);\n",
              "    fill: var(--button-hover-fill-color);\n",
              "  }\n",
              "\n",
              "  .colab-df-quickchart-complete:disabled,\n",
              "  .colab-df-quickchart-complete:disabled:hover {\n",
              "    background-color: var(--disabled-bg-color);\n",
              "    fill: var(--disabled-fill-color);\n",
              "    box-shadow: none;\n",
              "  }\n",
              "\n",
              "  .colab-df-spinner {\n",
              "    border: 2px solid var(--fill-color);\n",
              "    border-color: transparent;\n",
              "    border-bottom-color: var(--fill-color);\n",
              "    animation:\n",
              "      spin 1s steps(1) infinite;\n",
              "  }\n",
              "\n",
              "  @keyframes spin {\n",
              "    0% {\n",
              "      border-color: transparent;\n",
              "      border-bottom-color: var(--fill-color);\n",
              "      border-left-color: var(--fill-color);\n",
              "    }\n",
              "    20% {\n",
              "      border-color: transparent;\n",
              "      border-left-color: var(--fill-color);\n",
              "      border-top-color: var(--fill-color);\n",
              "    }\n",
              "    30% {\n",
              "      border-color: transparent;\n",
              "      border-left-color: var(--fill-color);\n",
              "      border-top-color: var(--fill-color);\n",
              "      border-right-color: var(--fill-color);\n",
              "    }\n",
              "    40% {\n",
              "      border-color: transparent;\n",
              "      border-right-color: var(--fill-color);\n",
              "      border-top-color: var(--fill-color);\n",
              "    }\n",
              "    60% {\n",
              "      border-color: transparent;\n",
              "      border-right-color: var(--fill-color);\n",
              "    }\n",
              "    80% {\n",
              "      border-color: transparent;\n",
              "      border-right-color: var(--fill-color);\n",
              "      border-bottom-color: var(--fill-color);\n",
              "    }\n",
              "    90% {\n",
              "      border-color: transparent;\n",
              "      border-bottom-color: var(--fill-color);\n",
              "    }\n",
              "  }\n",
              "</style>\n",
              "\n",
              "  <script>\n",
              "    async function quickchart(key) {\n",
              "      const quickchartButtonEl =\n",
              "        document.querySelector('#' + key + ' button');\n",
              "      quickchartButtonEl.disabled = true;  // To prevent multiple clicks.\n",
              "      quickchartButtonEl.classList.add('colab-df-spinner');\n",
              "      try {\n",
              "        const charts = await google.colab.kernel.invokeFunction(\n",
              "            'suggestCharts', [key], {});\n",
              "      } catch (error) {\n",
              "        console.error('Error during call to suggestCharts:', error);\n",
              "      }\n",
              "      quickchartButtonEl.classList.remove('colab-df-spinner');\n",
              "      quickchartButtonEl.classList.add('colab-df-quickchart-complete');\n",
              "    }\n",
              "    (() => {\n",
              "      let quickchartButtonEl =\n",
              "        document.querySelector('#df-73ebecb9-46db-445b-b76e-34b7fdde25ea button');\n",
              "      quickchartButtonEl.style.display =\n",
              "        google.colab.kernel.accessAllowed ? 'block' : 'none';\n",
              "    })();\n",
              "  </script>\n",
              "</div>\n",
              "\n",
              "    </div>\n",
              "  </div>\n"
            ],
            "application/vnd.google.colaboratory.intrinsic+json": {
              "type": "dataframe",
              "variable_name": "preco_petroleo_brent",
              "summary": "{\n  \"name\": \"preco_petroleo_brent\",\n  \"rows\": 11353,\n  \"fields\": [\n    {\n      \"column\": \"data_dia\",\n      \"properties\": {\n        \"dtype\": \"date\",\n        \"min\": \"1987-05-20 00:00:00\",\n        \"max\": \"2025-02-03 00:00:00\",\n        \"num_unique_values\": 11353,\n        \"samples\": [\n          \"2021-09-06 00:00:00\",\n          \"1993-12-21 00:00:00\",\n          \"2001-04-27 00:00:00\"\n        ],\n        \"semantic_type\": \"\",\n        \"description\": \"\"\n      }\n    },\n    {\n      \"column\": \"preco_petroleo_bruto_Brent_FOB\",\n      \"properties\": {\n        \"dtype\": \"number\",\n        \"std\": 33.11772061220247,\n        \"min\": 9.1,\n        \"max\": 143.95,\n        \"num_unique_values\": 5324,\n        \"samples\": [\n          38.63,\n          24.12,\n          25.91\n        ],\n        \"semantic_type\": \"\",\n        \"description\": \"\"\n      }\n    }\n  ]\n}"
            }
          },
          "metadata": {},
          "execution_count": 68
        }
      ]
    },
    {
      "cell_type": "markdown",
      "source": [
        "# Modelo de Machine Learning: ARIMA e SARIMAX"
      ],
      "metadata": {
        "id": "bqtn1jPw6Jma"
      }
    },
    {
      "cell_type": "markdown",
      "source": [
        "Para o desafio proposto, foi utilizado o modelo ARIMA/SARIMAX para a previsão de preço ao longo do tempo.\n",
        "\n",
        "O primeiro passo é instalar os pacotes que serão utilizados e na sequência, importar as biliotecas necessárias para o desenvolvimento dos modelos."
      ],
      "metadata": {
        "id": "QqMFp0ju6T9M"
      }
    },
    {
      "cell_type": "code",
      "source": [
        "!pip install pmdarima\n",
        "!pip install joblib"
      ],
      "metadata": {
        "id": "CYG86DwZfIh_",
        "colab": {
          "base_uri": "https://localhost:8080/"
        },
        "outputId": "2533c0b8-40b4-4fd0-fdc4-23271a48a6d4"
      },
      "execution_count": null,
      "outputs": [
        {
          "output_type": "stream",
          "name": "stdout",
          "text": [
            "Requirement already satisfied: pmdarima in /usr/local/lib/python3.11/dist-packages (2.0.4)\n",
            "Requirement already satisfied: joblib>=0.11 in /usr/local/lib/python3.11/dist-packages (from pmdarima) (1.4.2)\n",
            "Requirement already satisfied: Cython!=0.29.18,!=0.29.31,>=0.29 in /usr/local/lib/python3.11/dist-packages (from pmdarima) (3.0.12)\n",
            "Requirement already satisfied: numpy>=1.21.2 in /usr/local/lib/python3.11/dist-packages (from pmdarima) (1.26.4)\n",
            "Requirement already satisfied: pandas>=0.19 in /usr/local/lib/python3.11/dist-packages (from pmdarima) (2.2.2)\n",
            "Requirement already satisfied: scikit-learn>=0.22 in /usr/local/lib/python3.11/dist-packages (from pmdarima) (1.6.1)\n",
            "Requirement already satisfied: scipy>=1.3.2 in /usr/local/lib/python3.11/dist-packages (from pmdarima) (1.13.1)\n",
            "Requirement already satisfied: statsmodels>=0.13.2 in /usr/local/lib/python3.11/dist-packages (from pmdarima) (0.14.4)\n",
            "Requirement already satisfied: urllib3 in /usr/local/lib/python3.11/dist-packages (from pmdarima) (2.3.0)\n",
            "Requirement already satisfied: setuptools!=50.0.0,>=38.6.0 in /usr/local/lib/python3.11/dist-packages (from pmdarima) (75.1.0)\n",
            "Requirement already satisfied: packaging>=17.1 in /usr/local/lib/python3.11/dist-packages (from pmdarima) (24.2)\n",
            "Requirement already satisfied: python-dateutil>=2.8.2 in /usr/local/lib/python3.11/dist-packages (from pandas>=0.19->pmdarima) (2.8.2)\n",
            "Requirement already satisfied: pytz>=2020.1 in /usr/local/lib/python3.11/dist-packages (from pandas>=0.19->pmdarima) (2025.1)\n",
            "Requirement already satisfied: tzdata>=2022.7 in /usr/local/lib/python3.11/dist-packages (from pandas>=0.19->pmdarima) (2025.1)\n",
            "Requirement already satisfied: threadpoolctl>=3.1.0 in /usr/local/lib/python3.11/dist-packages (from scikit-learn>=0.22->pmdarima) (3.5.0)\n",
            "Requirement already satisfied: patsy>=0.5.6 in /usr/local/lib/python3.11/dist-packages (from statsmodels>=0.13.2->pmdarima) (1.0.1)\n",
            "Requirement already satisfied: six>=1.5 in /usr/local/lib/python3.11/dist-packages (from python-dateutil>=2.8.2->pandas>=0.19->pmdarima) (1.17.0)\n",
            "Requirement already satisfied: joblib in /usr/local/lib/python3.11/dist-packages (1.4.2)\n"
          ]
        }
      ]
    },
    {
      "cell_type": "code",
      "source": [
        "import numpy as np\n",
        "import matplotlib.pyplot as plt\n",
        "import seaborn as sns\n",
        "from pmdarima import auto_arima\n",
        "from statsmodels.tsa.arima.model import ARIMA\n",
        "from statsmodels.tsa.statespace.sarimax import SARIMAX\n",
        "from statsmodels.tsa.seasonal import seasonal_decompose\n",
        "from sklearn.metrics import mean_squared_error\n",
        "from sklearn.metrics import mean_absolute_error\n",
        "from sklearn.metrics import mean_absolute_percentage_error\n",
        "\n",
        "\n",
        "from math import sqrt\n",
        "from google.colab import files\n",
        "\n",
        "def wmape(y_true, y_pred):\n",
        "  return np.abs(y_true-y_pred).sum() / np.abs(y_true).sum()"
      ],
      "metadata": {
        "id": "SihMzGdcBc2o"
      },
      "execution_count": null,
      "outputs": []
    },
    {
      "cell_type": "markdown",
      "source": [
        "Abaixo, segue a visualização gráfica inicial dos dados, sem processamento."
      ],
      "metadata": {
        "id": "VbG759eEMo-1"
      }
    },
    {
      "cell_type": "code",
      "source": [
        "# Visualização dos dados\n",
        "\n",
        "plt.figure(figsize=(12, 5))\n",
        "plt.plot(preco_petroleo_brent[\"data_dia\"], preco_petroleo_brent[\"preco_petroleo_bruto_Brent_FOB\"], label='Preço do Petróleo')\n",
        "plt.title('Evolutivo do Preço do Barril de Petróleo Brent')\n",
        "plt.xlabel('Data')\n",
        "plt.ylabel('Preço do Petróleo Brent')\n",
        "plt.legend()\n",
        "plt.show()"
      ],
      "metadata": {
        "id": "Uear2ZF8tRdQ",
        "colab": {
          "base_uri": "https://localhost:8080/",
          "height": 429
        },
        "outputId": "7f01ae7e-8cf0-4c48-e431-8599a4542067"
      },
      "execution_count": null,
      "outputs": [
        {
          "output_type": "display_data",
          "data": {
            "text/plain": [
              "<Figure size 1200x500 with 1 Axes>"
            ],
            "image/png": "[encoded data removed]"
          },
          "metadata": {}
        }
      ]
    },
    {
      "cell_type": "markdown",
      "source": [
        "Na base, há alguns dias que não possuem valores. Por isso deverá ser feito um resample dos dados, para que dessa forma os dias faltantes adote o valor do dia anterior. Dessa forma, teremos uma base contínua e sem \"pulos\" (necessária para a modelagem do Machine Learning)."
      ],
      "metadata": {
        "id": "pBfGegq3vteK"
      }
    },
    {
      "cell_type": "code",
      "source": [
        "# Definição do resample\n",
        "preco_petroleo_brent_resample = preco_petroleo_brent.set_index(\"data_dia\").resample('1D').ffill()\n",
        "preco_petroleo_brent_resample"
      ],
      "metadata": {
        "id": "_OwXORQnvvpX",
        "colab": {
          "base_uri": "https://localhost:8080/",
          "height": 455
        },
        "outputId": "c1689b73-dd29-4f1c-c8ff-937424f7ac42"
      },
      "execution_count": null,
      "outputs": [
        {
          "output_type": "execute_result",
          "data": {
            "text/plain": [
              "            preco_petroleo_bruto_Brent_FOB\n",
              "data_dia                                  \n",
              "1987-05-20                           18.63\n",
              "1987-05-21                           18.45\n",
              "1987-05-22                           18.55\n",
              "1987-05-23                           18.55\n",
              "1987-05-24                           18.55\n",
              "...                                    ...\n",
              "2025-01-30                           77.42\n",
              "2025-01-31                           77.11\n",
              "2025-02-01                           77.11\n",
              "2025-02-02                           77.11\n",
              "2025-02-03                           76.49\n",
              "\n",
              "[13775 rows x 1 columns]"
            ],
            "text/html": [
              "\n",
              "  <div id=\"df-d920b957-b711-4ec2-8803-ae1141dd9eaf\" class=\"colab-df-container\">\n",
              "    <div>\n",
              "<style scoped>\n",
              "    .dataframe tbody tr th:only-of-type {\n",
              "        vertical-align: middle;\n",
              "    }\n",
              "\n",
              "    .dataframe tbody tr th {\n",
              "        vertical-align: top;\n",
              "    }\n",
              "\n",
              "    .dataframe thead th {\n",
              "        text-align: right;\n",
              "    }\n",
              "</style>\n",
              "<table border=\"1\" class=\"dataframe\">\n",
              "  <thead>\n",
              "    <tr style=\"text-align: right;\">\n",
              "      <th></th>\n",
              "      <th>preco_petroleo_bruto_Brent_FOB</th>\n",
              "    </tr>\n",
              "    <tr>\n",
              "      <th>data_dia</th>\n",
              "      <th></th>\n",
              "    </tr>\n",
              "  </thead>\n",
              "  <tbody>\n",
              "    <tr>\n",
              "      <th>1987-05-20</th>\n",
              "      <td>18.63</td>\n",
              "    </tr>\n",
              "    <tr>\n",
              "      <th>1987-05-21</th>\n",
              "      <td>18.45</td>\n",
              "    </tr>\n",
              "    <tr>\n",
              "      <th>1987-05-22</th>\n",
              "      <td>18.55</td>\n",
              "    </tr>\n",
              "    <tr>\n",
              "      <th>1987-05-23</th>\n",
              "      <td>18.55</td>\n",
              "    </tr>\n",
              "    <tr>\n",
              "      <th>1987-05-24</th>\n",
              "      <td>18.55</td>\n",
              "    </tr>\n",
              "    <tr>\n",
              "      <th>...</th>\n",
              "      <td>...</td>\n",
              "    </tr>\n",
              "    <tr>\n",
              "      <th>2025-01-30</th>\n",
              "      <td>77.42</td>\n",
              "    </tr>\n",
              "    <tr>\n",
              "      <th>2025-01-31</th>\n",
              "      <td>77.11</td>\n",
              "    </tr>\n",
              "    <tr>\n",
              "      <th>2025-02-01</th>\n",
              "      <td>77.11</td>\n",
              "    </tr>\n",
              "    <tr>\n",
              "      <th>2025-02-02</th>\n",
              "      <td>77.11</td>\n",
              "    </tr>\n",
              "    <tr>\n",
              "      <th>2025-02-03</th>\n",
              "      <td>76.49</td>\n",
              "    </tr>\n",
              "  </tbody>\n",
              "</table>\n",
              "<p>13775 rows × 1 columns</p>\n",
              "</div>\n",
              "    <div class=\"colab-df-buttons\">\n",
              "\n",
              "  <div class=\"colab-df-container\">\n",
              "    <button class=\"colab-df-convert\" onclick=\"convertToInteractive('df-d920b957-b711-4ec2-8803-ae1141dd9eaf')\"\n",
              "            title=\"Convert this dataframe to an interactive table.\"\n",
              "            style=\"display:none;\">\n",
              "\n",
              "  <svg xmlns=\"http://www.w3.org/2000/svg\" height=\"24px\" viewBox=\"0 -960 960 960\">\n",
              "    <path d=\"M120-120v-720h720v720H120Zm60-500h600v-160H180v160Zm220 220h160v-160H400v160Zm0 220h160v-160H400v160ZM180-400h160v-160H180v160Zm440 0h160v-160H620v160ZM180-180h160v-160H180v160Zm440 0h160v-160H620v160Z\"/>\n",
              "  </svg>\n",
              "    </button>\n",
              "\n",
              "  <style>\n",
              "    .colab-df-container {\n",
              "      display:flex;\n",
              "      gap: 12px;\n",
              "    }\n",
              "\n",
              "    .colab-df-convert {\n",
              "      background-color: #E8F0FE;\n",
              "      border: none;\n",
              "      border-radius: 50%;\n",
              "      cursor: pointer;\n",
              "      display: none;\n",
              "      fill: #1967D2;\n",
              "      height: 32px;\n",
              "      padding: 0 0 0 0;\n",
              "      width: 32px;\n",
              "    }\n",
              "\n",
              "    .colab-df-convert:hover {\n",
              "      background-color: #E2EBFA;\n",
              "      box-shadow: 0px 1px 2px rgba(60, 64, 67, 0.3), 0px 1px 3px 1px rgba(60, 64, 67, 0.15);\n",
              "      fill: #174EA6;\n",
              "    }\n",
              "\n",
              "    .colab-df-buttons div {\n",
              "      margin-bottom: 4px;\n",
              "    }\n",
              "\n",
              "    [theme=dark] .colab-df-convert {\n",
              "      background-color: #3B4455;\n",
              "      fill: #D2E3FC;\n",
              "    }\n",
              "\n",
              "    [theme=dark] .colab-df-convert:hover {\n",
              "      background-color: #434B5C;\n",
              "      box-shadow: 0px 1px 3px 1px rgba(0, 0, 0, 0.15);\n",
              "      filter: drop-shadow(0px 1px 2px rgba(0, 0, 0, 0.3));\n",
              "      fill: #FFFFFF;\n",
              "    }\n",
              "  </style>\n",
              "\n",
              "    <script>\n",
              "      const buttonEl =\n",
              "        document.querySelector('#df-d920b957-b711-4ec2-8803-ae1141dd9eaf button.colab-df-convert');\n",
              "      buttonEl.style.display =\n",
              "        google.colab.kernel.accessAllowed ? 'block' : 'none';\n",
              "\n",
              "      async function convertToInteractive(key) {\n",
              "        const element = document.querySelector('#df-d920b957-b711-4ec2-8803-ae1141dd9eaf');\n",
              "        const dataTable =\n",
              "          await google.colab.kernel.invokeFunction('convertToInteractive',\n",
              "                                                    [key], {});\n",
              "        if (!dataTable) return;\n",
              "\n",
              "        const docLinkHtml = 'Like what you see? Visit the ' +\n",
              "          '<a target=\"_blank\" href=https://colab.research.google.com/notebooks/data_table.ipynb>data table notebook</a>'\n",
              "          + ' to learn more about interactive tables.';\n",
              "        element.innerHTML = '';\n",
              "        dataTable['output_type'] = 'display_data';\n",
              "        await google.colab.output.renderOutput(dataTable, element);\n",
              "        const docLink = document.createElement('div');\n",
              "        docLink.innerHTML = docLinkHtml;\n",
              "        element.appendChild(docLink);\n",
              "      }\n",
              "    </script>\n",
              "  </div>\n",
              "\n",
              "\n",
              "<div id=\"df-e69c8e14-7fee-4d99-b414-042183259303\">\n",
              "  <button class=\"colab-df-quickchart\" onclick=\"quickchart('df-e69c8e14-7fee-4d99-b414-042183259303')\"\n",
              "            title=\"Suggest charts\"\n",
              "            style=\"display:none;\">\n",
              "\n",
              "<svg xmlns=\"http://www.w3.org/2000/svg\" height=\"24px\"viewBox=\"0 0 24 24\"\n",
              "     width=\"24px\">\n",
              "    <g>\n",
              "        <path d=\"M19 3H5c-1.1 0-2 .9-2 2v14c0 1.1.9 2 2 2h14c1.1 0 2-.9 2-2V5c0-1.1-.9-2-2-2zM9 17H7v-7h2v7zm4 0h-2V7h2v10zm4 0h-2v-4h2v4z\"/>\n",
              "    </g>\n",
              "</svg>\n",
              "  </button>\n",
              "\n",
              "<style>\n",
              "  .colab-df-quickchart {\n",
              "      --bg-color: #E8F0FE;\n",
              "      --fill-color: #1967D2;\n",
              "      --hover-bg-color: #E2EBFA;\n",
              "      --hover-fill-color: #174EA6;\n",
              "      --disabled-fill-color: #AAA;\n",
              "      --disabled-bg-color: #DDD;\n",
              "  }\n",
              "\n",
              "  [theme=dark] .colab-df-quickchart {\n",
              "      --bg-color: #3B4455;\n",
              "      --fill-color: #D2E3FC;\n",
              "      --hover-bg-color: #434B5C;\n",
              "      --hover-fill-color: #FFFFFF;\n",
              "      --disabled-bg-color: #3B4455;\n",
              "      --disabled-fill-color: #666;\n",
              "  }\n",
              "\n",
              "  .colab-df-quickchart {\n",
              "    background-color: var(--bg-color);\n",
              "    border: none;\n",
              "    border-radius: 50%;\n",
              "    cursor: pointer;\n",
              "    display: none;\n",
              "    fill: var(--fill-color);\n",
              "    height: 32px;\n",
              "    padding: 0;\n",
              "    width: 32px;\n",
              "  }\n",
              "\n",
              "  .colab-df-quickchart:hover {\n",
              "    background-color: var(--hover-bg-color);\n",
              "    box-shadow: 0 1px 2px rgba(60, 64, 67, 0.3), 0 1px 3px 1px rgba(60, 64, 67, 0.15);\n",
              "    fill: var(--button-hover-fill-color);\n",
              "  }\n",
              "\n",
              "  .colab-df-quickchart-complete:disabled,\n",
              "  .colab-df-quickchart-complete:disabled:hover {\n",
              "    background-color: var(--disabled-bg-color);\n",
              "    fill: var(--disabled-fill-color);\n",
              "    box-shadow: none;\n",
              "  }\n",
              "\n",
              "  .colab-df-spinner {\n",
              "    border: 2px solid var(--fill-color);\n",
              "    border-color: transparent;\n",
              "    border-bottom-color: var(--fill-color);\n",
              "    animation:\n",
              "      spin 1s steps(1) infinite;\n",
              "  }\n",
              "\n",
              "  @keyframes spin {\n",
              "    0% {\n",
              "      border-color: transparent;\n",
              "      border-bottom-color: var(--fill-color);\n",
              "      border-left-color: var(--fill-color);\n",
              "    }\n",
              "    20% {\n",
              "      border-color: transparent;\n",
              "      border-left-color: var(--fill-color);\n",
              "      border-top-color: var(--fill-color);\n",
              "    }\n",
              "    30% {\n",
              "      border-color: transparent;\n",
              "      border-left-color: var(--fill-color);\n",
              "      border-top-color: var(--fill-color);\n",
              "      border-right-color: var(--fill-color);\n",
              "    }\n",
              "    40% {\n",
              "      border-color: transparent;\n",
              "      border-right-color: var(--fill-color);\n",
              "      border-top-color: var(--fill-color);\n",
              "    }\n",
              "    60% {\n",
              "      border-color: transparent;\n",
              "      border-right-color: var(--fill-color);\n",
              "    }\n",
              "    80% {\n",
              "      border-color: transparent;\n",
              "      border-right-color: var(--fill-color);\n",
              "      border-bottom-color: var(--fill-color);\n",
              "    }\n",
              "    90% {\n",
              "      border-color: transparent;\n",
              "      border-bottom-color: var(--fill-color);\n",
              "    }\n",
              "  }\n",
              "</style>\n",
              "\n",
              "  <script>\n",
              "    async function quickchart(key) {\n",
              "      const quickchartButtonEl =\n",
              "        document.querySelector('#' + key + ' button');\n",
              "      quickchartButtonEl.disabled = true;  // To prevent multiple clicks.\n",
              "      quickchartButtonEl.classList.add('colab-df-spinner');\n",
              "      try {\n",
              "        const charts = await google.colab.kernel.invokeFunction(\n",
              "            'suggestCharts', [key], {});\n",
              "      } catch (error) {\n",
              "        console.error('Error during call to suggestCharts:', error);\n",
              "      }\n",
              "      quickchartButtonEl.classList.remove('colab-df-spinner');\n",
              "      quickchartButtonEl.classList.add('colab-df-quickchart-complete');\n",
              "    }\n",
              "    (() => {\n",
              "      let quickchartButtonEl =\n",
              "        document.querySelector('#df-e69c8e14-7fee-4d99-b414-042183259303 button');\n",
              "      quickchartButtonEl.style.display =\n",
              "        google.colab.kernel.accessAllowed ? 'block' : 'none';\n",
              "    })();\n",
              "  </script>\n",
              "</div>\n",
              "\n",
              "  <div id=\"id_987b901c-9b6c-4c14-852e-95ef16cfb04d\">\n",
              "    <style>\n",
              "      .colab-df-generate {\n",
              "        background-color: #E8F0FE;\n",
              "        border: none;\n",
              "        border-radius: 50%;\n",
              "        cursor: pointer;\n",
              "        display: none;\n",
              "        fill: #1967D2;\n",
              "        height: 32px;\n",
              "        padding: 0 0 0 0;\n",
              "        width: 32px;\n",
              "      }\n",
              "\n",
              "      .colab-df-generate:hover {\n",
              "        background-color: #E2EBFA;\n",
              "        box-shadow: 0px 1px 2px rgba(60, 64, 67, 0.3), 0px 1px 3px 1px rgba(60, 64, 67, 0.15);\n",
              "        fill: #174EA6;\n",
              "      }\n",
              "\n",
              "      [theme=dark] .colab-df-generate {\n",
              "        background-color: #3B4455;\n",
              "        fill: #D2E3FC;\n",
              "      }\n",
              "\n",
              "      [theme=dark] .colab-df-generate:hover {\n",
              "        background-color: #434B5C;\n",
              "        box-shadow: 0px 1px 3px 1px rgba(0, 0, 0, 0.15);\n",
              "        filter: drop-shadow(0px 1px 2px rgba(0, 0, 0, 0.3));\n",
              "        fill: #FFFFFF;\n",
              "      }\n",
              "    </style>\n",
              "    <button class=\"colab-df-generate\" onclick=\"generateWithVariable('preco_petroleo_brent_resample')\"\n",
              "            title=\"Generate code using this dataframe.\"\n",
              "            style=\"display:none;\">\n",
              "\n",
              "  <svg xmlns=\"http://www.w3.org/2000/svg\" height=\"24px\"viewBox=\"0 0 24 24\"\n",
              "       width=\"24px\">\n",
              "    <path d=\"M7,19H8.4L18.45,9,17,7.55,7,17.6ZM5,21V16.75L18.45,3.32a2,2,0,0,1,2.83,0l1.4,1.43a1.91,1.91,0,0,1,.58,1.4,1.91,1.91,0,0,1-.58,1.4L9.25,21ZM18.45,9,17,7.55Zm-12,3A5.31,5.31,0,0,0,4.9,8.1,5.31,5.31,0,0,0,1,6.5,5.31,5.31,0,0,0,4.9,4.9,5.31,5.31,0,0,0,6.5,1,5.31,5.31,0,0,0,8.1,4.9,5.31,5.31,0,0,0,12,6.5,5.46,5.46,0,0,0,6.5,12Z\"/>\n",
              "  </svg>\n",
              "    </button>\n",
              "    <script>\n",
              "      (() => {\n",
              "      const buttonEl =\n",
              "        document.querySelector('#id_987b901c-9b6c-4c14-852e-95ef16cfb04d button.colab-df-generate');\n",
              "      buttonEl.style.display =\n",
              "        google.colab.kernel.accessAllowed ? 'block' : 'none';\n",
              "\n",
              "      buttonEl.onclick = () => {\n",
              "        google.colab.notebook.generateWithVariable('preco_petroleo_brent_resample');\n",
              "      }\n",
              "      })();\n",
              "    </script>\n",
              "  </div>\n",
              "\n",
              "    </div>\n",
              "  </div>\n"
            ],
            "application/vnd.google.colaboratory.intrinsic+json": {
              "type": "dataframe",
              "variable_name": "preco_petroleo_brent_resample",
              "summary": "{\n  \"name\": \"preco_petroleo_brent_resample\",\n  \"rows\": 13775,\n  \"fields\": [\n    {\n      \"column\": \"data_dia\",\n      \"properties\": {\n        \"dtype\": \"date\",\n        \"min\": \"1987-05-20 00:00:00\",\n        \"max\": \"2025-02-03 00:00:00\",\n        \"num_unique_values\": 13775,\n        \"samples\": [\n          \"2017-07-21 00:00:00\",\n          \"2013-09-07 00:00:00\",\n          \"2007-06-22 00:00:00\"\n        ],\n        \"semantic_type\": \"\",\n        \"description\": \"\"\n      }\n    },\n    {\n      \"column\": \"preco_petroleo_bruto_Brent_FOB\",\n      \"properties\": {\n        \"dtype\": \"number\",\n        \"std\": 32.9497031669329,\n        \"min\": 9.1,\n        \"max\": 143.95,\n        \"num_unique_values\": 5324,\n        \"samples\": [\n          59.91,\n          85.08,\n          71.25\n        ],\n        \"semantic_type\": \"\",\n        \"description\": \"\"\n      }\n    }\n  ]\n}"
            }
          },
          "metadata": {},
          "execution_count": 72
        }
      ]
    },
    {
      "cell_type": "markdown",
      "source": [
        "## Teste de Dickey-Fuller"
      ],
      "metadata": {
        "id": "qIBa0iqkQRmn"
      }
    },
    {
      "cell_type": "markdown",
      "source": [
        "O teste de Dickey-Fuller é importante para o modelo ARIMA/SARIMAX pois verifica se os dados apresentados são estacionários ou não, ou seja, verifica se as propriedades estatísticas não mudam ao longo do tempo ou se apresentam alguma variação.\n",
        "\n",
        "Para interpretar o resultado do teste de Dickey-Fuller (ADF), devemos verificar o valor resultante de <u>p-valor</u>, sendo:\n",
        "\n",
        "\n",
        "*   p-valor ≤ 0.05 → Rejeitamos a hipótese nula → A série é estacionária.\n",
        "*   p-valor > 0.05 → Não rejeitamos a hipótese nula → A série não é estacionária (precisa de transformação).\n",
        "\n",
        "\n",
        "\n"
      ],
      "metadata": {
        "id": "u5GTmJiCQZfS"
      }
    },
    {
      "cell_type": "code",
      "source": [
        "from statsmodels.tsa.stattools import adfuller\n",
        "testeADF = adfuller(preco_petroleo_brent[\"preco_petroleo_bruto_Brent_FOB\"])\n",
        "\n",
        "\n",
        "print('Estatística ADF: {:.4f}'.format(testeADF[0]))\n",
        "print('p-valor: {:.4f}'.format(testeADF[1]))\n",
        "\n",
        "if testeADF[1] <= 0.05:\n",
        "    print(\"\\n A série é estacionária, pode aplicar ARIMA/ SARIMAX\")\n",
        "else:\n",
        "    print(\"\\n A série NÃO é estacionária, necessário torná-la.\")"
      ],
      "metadata": {
        "id": "Gtf2h4nZ0L3i",
        "colab": {
          "base_uri": "https://localhost:8080/"
        },
        "outputId": "ba625200-ecfa-447a-bbaa-8adf9f4f35ea"
      },
      "execution_count": null,
      "outputs": [
        {
          "output_type": "stream",
          "name": "stdout",
          "text": [
            "Estatística ADF: -1.9615\n",
            "p-valor: 0.3037\n",
            "\n",
            " A série NÃO é estacionária, necessário torná-la.\n"
          ]
        }
      ]
    },
    {
      "cell_type": "markdown",
      "source": [
        "Como a série não é estacionária, devido ao fato de p-valor >0.05, é necessário adequar os valores para que se tornem estacionários, adequando-se para a utilização do modelo ARIMA/ SARIMAX.\n",
        "\n",
        "A alternativa proposta abaixo, é recalcular o teste ADF aplicando diferenciação, ou seja, removendo as tendências."
      ],
      "metadata": {
        "id": "J2x3WHUYT8Bv"
      }
    },
    {
      "cell_type": "code",
      "source": [
        "testADF = adfuller(preco_petroleo_brent[\"preco_petroleo_bruto_Brent_FOB\"].diff().dropna())\n",
        "\n",
        "\n",
        "print('Estatística ADF: {:.4f}'.format(testADF[0]))\n",
        "print('p-valor: {:.4f}'.format(testADF[1]))\n",
        "\n",
        "if testADF[1] <= 0.05 or testADF[1] == 0.0:\n",
        "    print(\"\\n A série é estacionária, pode aplicar ARIMA/ SARIMAX\")\n",
        "else:\n",
        "    print(\"\\n A série NÃO é estacionária, necessário torná-la.\")\n"
      ],
      "metadata": {
        "id": "30JSZqBO0RvF",
        "colab": {
          "base_uri": "https://localhost:8080/"
        },
        "outputId": "bbbee953-941f-478c-a68d-6a9d9e4b9954"
      },
      "execution_count": null,
      "outputs": [
        {
          "output_type": "stream",
          "name": "stdout",
          "text": [
            "Estatística ADF: -17.5203\n",
            "p-valor: 0.0000\n",
            "\n",
            " A série é estacionária, pode aplicar ARIMA/ SARIMAX\n"
          ]
        }
      ]
    },
    {
      "cell_type": "markdown",
      "source": [
        "Como tornamos os dados estacionários, podemos começar  utilizar nosso modelo. Para isso, serão criadas duas variáveis: uma para o treino do modelo (usando dados entre 1987 até 2015), e outra para o teste do modelo (dados à partir de 2016)."
      ],
      "metadata": {
        "id": "y0edL2qkXJnZ"
      }
    },
    {
      "cell_type": "code",
      "source": [
        "# Definição dos parâmetro do treino e teste\n",
        "treino_modelo_ARIMA = preco_petroleo_brent_resample[:'2015-12-31']\n",
        "teste_modelo_ARIMA = preco_petroleo_brent_resample['2016-01-01':]"
      ],
      "metadata": {
        "id": "XZFHBjDr0zm6"
      },
      "execution_count": null,
      "outputs": []
    },
    {
      "cell_type": "code",
      "source": [
        "# Plotagem do gráfico com os dados de treino e teste\n",
        "fig, ax = plt.subplots(figsize = (15,5))\n",
        "\n",
        "ax.plot(treino_modelo_ARIMA, 'black', teste_modelo_ARIMA, 'red')\n",
        "plt.title(\"Dados de teste e treino\")\n",
        "plt.xlabel('Ano')\n",
        "plt.grid(alpha=0.5)\n",
        "plt.show()"
      ],
      "metadata": {
        "id": "t2TTqkaT1ZVv",
        "colab": {
          "base_uri": "https://localhost:8080/",
          "height": 357
        },
        "outputId": "c8c03ebc-93e7-477b-eaeb-246a8f8365fd"
      },
      "execution_count": null,
      "outputs": [
        {
          "output_type": "display_data",
          "data": {
            "text/plain": [
              "<Figure size 1500x500 with 1 Axes>"
            ],
            "image/png": "[encoded data removed]"
          },
          "metadata": {}
        }
      ]
    },
    {
      "cell_type": "code",
      "source": [
        "print(f'Qtd de dados de treino: {treino_modelo_ARIMA.shape[0]} \\n\\nQtd de dados de teste: {teste_modelo_ARIMA.shape[0]}')"
      ],
      "metadata": {
        "id": "a-qLOP8P1nwW",
        "colab": {
          "base_uri": "https://localhost:8080/"
        },
        "outputId": "096f566f-a17a-426c-cb90-2dad3e8bf876"
      },
      "execution_count": null,
      "outputs": [
        {
          "output_type": "stream",
          "name": "stdout",
          "text": [
            "Qtd de dados de treino: 10453 \n",
            "\n",
            "Qtd de dados de teste: 3322\n"
          ]
        }
      ]
    },
    {
      "cell_type": "code",
      "source": [
        "## P=1, D=1 e Q=1\n",
        "\n",
        "modelo_arima = ARIMA(treino_modelo_ARIMA, order =(1,1,1))\n",
        "arima_info = modelo_arima.fit()\n",
        "print(arima_info.summary())"
      ],
      "metadata": {
        "id": "DXj-Bl1G1xC4",
        "colab": {
          "base_uri": "https://localhost:8080/"
        },
        "outputId": "a13c16c6-1de5-4b7c-f653-ad1ffc5ef741"
      },
      "execution_count": null,
      "outputs": [
        {
          "output_type": "stream",
          "name": "stdout",
          "text": [
            "                                     SARIMAX Results                                      \n",
            "==========================================================================================\n",
            "Dep. Variable:     preco_petroleo_bruto_Brent_FOB   No. Observations:                10453\n",
            "Model:                             ARIMA(1, 1, 1)   Log Likelihood              -16971.919\n",
            "Date:                            Sat, 15 Feb 2025   AIC                          33949.837\n",
            "Time:                                    21:50:58   BIC                          33971.601\n",
            "Sample:                                05-20-1987   HQIC                         33957.188\n",
            "                                     - 12-31-2015                                         \n",
            "Covariance Type:                              opg                                         \n",
            "==============================================================================\n",
            "                 coef    std err          z      P>|z|      [0.025      0.975]\n",
            "------------------------------------------------------------------------------\n",
            "ar.L1          0.2803      0.017     16.497      0.000       0.247       0.314\n",
            "ma.L1         -0.5576      0.015    -38.141      0.000      -0.586      -0.529\n",
            "sigma2         1.5064      0.008    182.654      0.000       1.490       1.523\n",
            "===================================================================================\n",
            "Ljung-Box (L1) (Q):                  12.20   Jarque-Bera (JB):             52093.09\n",
            "Prob(Q):                              0.00   Prob(JB):                         0.00\n",
            "Heteroskedasticity (H):              18.85   Skew:                            -0.24\n",
            "Prob(H) (two-sided):                  0.00   Kurtosis:                        13.93\n",
            "===================================================================================\n",
            "\n",
            "Warnings:\n",
            "[1] Covariance matrix calculated using the outer product of gradients (complex-step).\n"
          ]
        }
      ]
    },
    {
      "cell_type": "code",
      "source": [
        "# Criação da variável com os dados de predição do modelo ARIMA\n",
        "predicao_ARIMA = arima_info.predict(treino_modelo_ARIMA.shape[0], preco_petroleo_brent_resample.shape[0]-1, dynamic=True)\n",
        "predicao_ARIMA.shape\n",
        "\n",
        "\n",
        "# Plotando gráfico com a visualização dos dados do treino e teste\n",
        "fig, ax = plt.subplots(figsize = (15,5))\n",
        "fig.suptitle('Previsão do preço do barril de Petróleo Brent (U$)', fontsize=15)\n",
        "\n",
        "treino, = plt.plot(treino_modelo_ARIMA.loc['1987-05-20':],\"black\", label = \"Histórico\")\n",
        "teste, = plt.plot(teste_modelo_ARIMA, \"red\", label = \"Dados Reais\")\n",
        "predicao, = plt.plot(predicao_ARIMA, \"green\", label = \"Dados Preditos\")\n",
        "\n",
        "plt.legend(handles=[treino, teste, predicao], fontsize=10)\n",
        "plt.xlabel('Ano', fontsize=10)\n",
        "\n",
        "plt.show()"
      ],
      "metadata": {
        "id": "By3tUHfgY076",
        "colab": {
          "base_uri": "https://localhost:8080/",
          "height": 377
        },
        "outputId": "5bf25d3f-d2e8-4f3f-bb0c-5887a281e090"
      },
      "execution_count": null,
      "outputs": [
        {
          "output_type": "display_data",
          "data": {
            "text/plain": [
              "<Figure size 1500x500 with 1 Axes>"
            ],
            "image/png": "[encoded data removed]"
          },
          "metadata": {}
        }
      ]
    },
    {
      "cell_type": "code",
      "source": [
        "import math\n",
        "\n",
        "# Avaliação das Métricas do modelo ARIMA\n",
        "mae_arimam = mean_absolute_error(teste_modelo_ARIMA.values, predicao_ARIMA.values)\n",
        "mse_arimam = mean_squared_error(teste_modelo_ARIMA.values, predicao_ARIMA.values)\n",
        "rmse_arimam = math.sqrt(mse_arimam)\n",
        "mape_arimam = mean_absolute_percentage_error(teste_modelo_ARIMA.values, predicao_ARIMA.values)\n",
        "wmape_arimam = wmape(teste_modelo_ARIMA.values, predicao_ARIMA.values)\n",
        "\n",
        "print(f\"MAE - Erro Médio Absoluto: {mae_arimam:.5f}\")\n",
        "print(f\"MSE - Erro Médio Quadrático: {mse_arimam:.5f}\")\n",
        "print(f\"RMSE - Raiz do Erro Médio Quadrático: {rmse_arimam:.5f}\")\n",
        "print(f\"MAPE - Erro Percentual Absoluto Médio: {mape_arimam:.2%}\")\n",
        "print(f\"WMAPE - Erro Percentual Absoluto Médio Ponderado: {wmape_arimam:.2%}\")\n"
      ],
      "metadata": {
        "id": "F9x5b3Ll2dJu",
        "colab": {
          "base_uri": "https://localhost:8080/"
        },
        "outputId": "f55ac5e6-d889-4576-b8eb-178303d499f6"
      },
      "execution_count": null,
      "outputs": [
        {
          "output_type": "stream",
          "name": "stdout",
          "text": [
            "MAE - Erro Médio Absoluto: 32.15703\n",
            "MSE - Erro Médio Quadrático: 1378.81474\n",
            "RMSE - Raiz do Erro Médio Quadrático: 37.13239\n",
            "MAPE - Erro Percentual Absoluto Médio: 43.74%\n",
            "WMAPE - Erro Percentual Absoluto Médio Ponderado: 157476.19%\n"
          ]
        }
      ]
    },
    {
      "cell_type": "markdown",
      "source": [
        "A etapa seguinte é verificar qual dos parâmetros do ARIMA reflete em um melhor modelo. Obtendo essa informação, conseguimos dimensionar as informações de forma mais acertiva para o SARIMAX."
      ],
      "metadata": {
        "id": "H1CQaDGj2roP"
      }
    },
    {
      "cell_type": "code",
      "source": [
        "melhor_arima = auto_arima(\n",
        "    preco_petroleo_brent_resample, d=1,\n",
        "    start_p=1, start_q=1, max_p=2, max_q=2,\n",
        "    seasonal=True, m=7, D=1,\n",
        "    start_P=0, start_Q=0, max_P=1, max_Q=1,\n",
        "    max_order=5,  information_criterion=\"aic\", stepwise=True, n_jobs=-1,\n",
        "    suppress_warnings=True, error_action=\"ignore\", trace=True\n",
        ")"
      ],
      "metadata": {
        "colab": {
          "base_uri": "https://localhost:8080/"
        },
        "id": "aGZPCXyHeqqj",
        "outputId": "1939807f-2b16-49c9-e048-d1f4cda85a2b"
      },
      "execution_count": null,
      "outputs": [
        {
          "output_type": "stream",
          "name": "stdout",
          "text": [
            "Performing stepwise search to minimize aic\n"
          ]
        },
        {
          "output_type": "stream",
          "name": "stderr",
          "text": [
            "/usr/local/lib/python3.11/dist-packages/pmdarima/arima/_validation.py:76: UserWarning: stepwise model cannot be fit in parallel (n_jobs=1). Falling back to stepwise parameter search.\n",
            "  warnings.warn('stepwise model cannot be fit in parallel (n_jobs=%i). '\n",
            "/usr/local/lib/python3.11/dist-packages/sklearn/utils/deprecation.py:151: FutureWarning: 'force_all_finite' was renamed to 'ensure_all_finite' in 1.6 and will be removed in 1.8.\n",
            "  warnings.warn(\n",
            "/usr/local/lib/python3.11/dist-packages/sklearn/utils/deprecation.py:151: FutureWarning: 'force_all_finite' was renamed to 'ensure_all_finite' in 1.6 and will be removed in 1.8.\n",
            "  warnings.warn(\n"
          ]
        },
        {
          "output_type": "stream",
          "name": "stdout",
          "text": [
            " ARIMA(1,1,1)(0,1,0)[7]             : AIC=inf, Time=24.97 sec\n"
          ]
        },
        {
          "output_type": "stream",
          "name": "stderr",
          "text": [
            "/usr/local/lib/python3.11/dist-packages/sklearn/utils/deprecation.py:151: FutureWarning: 'force_all_finite' was renamed to 'ensure_all_finite' in 1.6 and will be removed in 1.8.\n",
            "  warnings.warn(\n"
          ]
        },
        {
          "output_type": "stream",
          "name": "stdout",
          "text": [
            " ARIMA(0,1,0)(0,1,0)[7]             : AIC=56437.361, Time=1.39 sec\n"
          ]
        },
        {
          "output_type": "stream",
          "name": "stderr",
          "text": [
            "/usr/local/lib/python3.11/dist-packages/sklearn/utils/deprecation.py:151: FutureWarning: 'force_all_finite' was renamed to 'ensure_all_finite' in 1.6 and will be removed in 1.8.\n",
            "  warnings.warn(\n"
          ]
        },
        {
          "output_type": "stream",
          "name": "stdout",
          "text": [
            " ARIMA(1,1,0)(1,1,0)[7]             : AIC=52142.718, Time=2.75 sec\n"
          ]
        },
        {
          "output_type": "stream",
          "name": "stderr",
          "text": [
            "/usr/local/lib/python3.11/dist-packages/sklearn/utils/deprecation.py:151: FutureWarning: 'force_all_finite' was renamed to 'ensure_all_finite' in 1.6 and will be removed in 1.8.\n",
            "  warnings.warn(\n"
          ]
        },
        {
          "output_type": "stream",
          "name": "stdout",
          "text": [
            " ARIMA(0,1,1)(0,1,1)[7]             : AIC=inf, Time=22.13 sec\n"
          ]
        },
        {
          "output_type": "stream",
          "name": "stderr",
          "text": [
            "/usr/local/lib/python3.11/dist-packages/sklearn/utils/deprecation.py:151: FutureWarning: 'force_all_finite' was renamed to 'ensure_all_finite' in 1.6 and will be removed in 1.8.\n",
            "  warnings.warn(\n"
          ]
        },
        {
          "output_type": "stream",
          "name": "stdout",
          "text": [
            " ARIMA(1,1,0)(0,1,0)[7]             : AIC=56211.063, Time=0.88 sec\n"
          ]
        },
        {
          "output_type": "stream",
          "name": "stderr",
          "text": [
            "/usr/local/lib/python3.11/dist-packages/sklearn/utils/deprecation.py:151: FutureWarning: 'force_all_finite' was renamed to 'ensure_all_finite' in 1.6 and will be removed in 1.8.\n",
            "  warnings.warn(\n"
          ]
        },
        {
          "output_type": "stream",
          "name": "stdout",
          "text": [
            " ARIMA(1,1,0)(1,1,1)[7]             : AIC=inf, Time=25.15 sec\n"
          ]
        },
        {
          "output_type": "stream",
          "name": "stderr",
          "text": [
            "/usr/local/lib/python3.11/dist-packages/sklearn/utils/deprecation.py:151: FutureWarning: 'force_all_finite' was renamed to 'ensure_all_finite' in 1.6 and will be removed in 1.8.\n",
            "  warnings.warn(\n"
          ]
        },
        {
          "output_type": "stream",
          "name": "stdout",
          "text": [
            " ARIMA(1,1,0)(0,1,1)[7]             : AIC=inf, Time=18.60 sec\n"
          ]
        },
        {
          "output_type": "stream",
          "name": "stderr",
          "text": [
            "/usr/local/lib/python3.11/dist-packages/sklearn/utils/deprecation.py:151: FutureWarning: 'force_all_finite' was renamed to 'ensure_all_finite' in 1.6 and will be removed in 1.8.\n",
            "  warnings.warn(\n"
          ]
        },
        {
          "output_type": "stream",
          "name": "stdout",
          "text": [
            " ARIMA(0,1,0)(1,1,0)[7]             : AIC=52382.671, Time=1.66 sec\n"
          ]
        },
        {
          "output_type": "stream",
          "name": "stderr",
          "text": [
            "/usr/local/lib/python3.11/dist-packages/sklearn/utils/deprecation.py:151: FutureWarning: 'force_all_finite' was renamed to 'ensure_all_finite' in 1.6 and will be removed in 1.8.\n",
            "  warnings.warn(\n"
          ]
        },
        {
          "output_type": "stream",
          "name": "stdout",
          "text": [
            " ARIMA(2,1,0)(1,1,0)[7]             : AIC=51550.668, Time=5.27 sec\n"
          ]
        },
        {
          "output_type": "stream",
          "name": "stderr",
          "text": [
            "/usr/local/lib/python3.11/dist-packages/sklearn/utils/deprecation.py:151: FutureWarning: 'force_all_finite' was renamed to 'ensure_all_finite' in 1.6 and will be removed in 1.8.\n",
            "  warnings.warn(\n"
          ]
        },
        {
          "output_type": "stream",
          "name": "stdout",
          "text": [
            " ARIMA(2,1,0)(0,1,0)[7]             : AIC=55653.951, Time=1.57 sec\n"
          ]
        },
        {
          "output_type": "stream",
          "name": "stderr",
          "text": [
            "/usr/local/lib/python3.11/dist-packages/sklearn/utils/deprecation.py:151: FutureWarning: 'force_all_finite' was renamed to 'ensure_all_finite' in 1.6 and will be removed in 1.8.\n",
            "  warnings.warn(\n"
          ]
        },
        {
          "output_type": "stream",
          "name": "stdout",
          "text": [
            " ARIMA(2,1,0)(1,1,1)[7]             : AIC=inf, Time=37.19 sec\n"
          ]
        },
        {
          "output_type": "stream",
          "name": "stderr",
          "text": [
            "/usr/local/lib/python3.11/dist-packages/sklearn/utils/deprecation.py:151: FutureWarning: 'force_all_finite' was renamed to 'ensure_all_finite' in 1.6 and will be removed in 1.8.\n",
            "  warnings.warn(\n"
          ]
        },
        {
          "output_type": "stream",
          "name": "stdout",
          "text": [
            " ARIMA(2,1,0)(0,1,1)[7]             : AIC=inf, Time=16.57 sec\n"
          ]
        },
        {
          "output_type": "stream",
          "name": "stderr",
          "text": [
            "/usr/local/lib/python3.11/dist-packages/sklearn/utils/deprecation.py:151: FutureWarning: 'force_all_finite' was renamed to 'ensure_all_finite' in 1.6 and will be removed in 1.8.\n",
            "  warnings.warn(\n"
          ]
        },
        {
          "output_type": "stream",
          "name": "stdout",
          "text": [
            " ARIMA(2,1,1)(1,1,0)[7]             : AIC=51485.956, Time=6.72 sec\n"
          ]
        },
        {
          "output_type": "stream",
          "name": "stderr",
          "text": [
            "/usr/local/lib/python3.11/dist-packages/sklearn/utils/deprecation.py:151: FutureWarning: 'force_all_finite' was renamed to 'ensure_all_finite' in 1.6 and will be removed in 1.8.\n",
            "  warnings.warn(\n"
          ]
        },
        {
          "output_type": "stream",
          "name": "stdout",
          "text": [
            " ARIMA(2,1,1)(0,1,0)[7]             : AIC=inf, Time=17.76 sec\n"
          ]
        },
        {
          "output_type": "stream",
          "name": "stderr",
          "text": [
            "/usr/local/lib/python3.11/dist-packages/sklearn/utils/deprecation.py:151: FutureWarning: 'force_all_finite' was renamed to 'ensure_all_finite' in 1.6 and will be removed in 1.8.\n",
            "  warnings.warn(\n"
          ]
        },
        {
          "output_type": "stream",
          "name": "stdout",
          "text": [
            " ARIMA(2,1,1)(1,1,1)[7]             : AIC=inf, Time=43.94 sec\n"
          ]
        },
        {
          "output_type": "stream",
          "name": "stderr",
          "text": [
            "/usr/local/lib/python3.11/dist-packages/sklearn/utils/deprecation.py:151: FutureWarning: 'force_all_finite' was renamed to 'ensure_all_finite' in 1.6 and will be removed in 1.8.\n",
            "  warnings.warn(\n"
          ]
        },
        {
          "output_type": "stream",
          "name": "stdout",
          "text": [
            " ARIMA(2,1,1)(0,1,1)[7]             : AIC=inf, Time=32.06 sec\n"
          ]
        },
        {
          "output_type": "stream",
          "name": "stderr",
          "text": [
            "/usr/local/lib/python3.11/dist-packages/sklearn/utils/deprecation.py:151: FutureWarning: 'force_all_finite' was renamed to 'ensure_all_finite' in 1.6 and will be removed in 1.8.\n",
            "  warnings.warn(\n"
          ]
        },
        {
          "output_type": "stream",
          "name": "stdout",
          "text": [
            " ARIMA(1,1,1)(1,1,0)[7]             : AIC=inf, Time=27.27 sec\n"
          ]
        },
        {
          "output_type": "stream",
          "name": "stderr",
          "text": [
            "/usr/local/lib/python3.11/dist-packages/sklearn/utils/deprecation.py:151: FutureWarning: 'force_all_finite' was renamed to 'ensure_all_finite' in 1.6 and will be removed in 1.8.\n",
            "  warnings.warn(\n"
          ]
        },
        {
          "output_type": "stream",
          "name": "stdout",
          "text": [
            " ARIMA(2,1,2)(1,1,0)[7]             : AIC=inf, Time=29.93 sec\n"
          ]
        },
        {
          "output_type": "stream",
          "name": "stderr",
          "text": [
            "/usr/local/lib/python3.11/dist-packages/sklearn/utils/deprecation.py:151: FutureWarning: 'force_all_finite' was renamed to 'ensure_all_finite' in 1.6 and will be removed in 1.8.\n",
            "  warnings.warn(\n"
          ]
        },
        {
          "output_type": "stream",
          "name": "stdout",
          "text": [
            " ARIMA(1,1,2)(1,1,0)[7]             : AIC=51581.947, Time=5.88 sec\n"
          ]
        },
        {
          "output_type": "stream",
          "name": "stderr",
          "text": [
            "/usr/local/lib/python3.11/dist-packages/sklearn/utils/deprecation.py:151: FutureWarning: 'force_all_finite' was renamed to 'ensure_all_finite' in 1.6 and will be removed in 1.8.\n",
            "  warnings.warn(\n"
          ]
        },
        {
          "output_type": "stream",
          "name": "stdout",
          "text": [
            " ARIMA(2,1,1)(1,1,0)[7] intercept   : AIC=51487.956, Time=24.97 sec\n",
            "\n",
            "Best model:  ARIMA(2,1,1)(1,1,0)[7]          \n",
            "Total fit time: 346.725 seconds\n"
          ]
        }
      ]
    },
    {
      "cell_type": "code",
      "source": [
        "# Como o melhor modelo foi o ARIMA (2,1,1)(1,1,0)[7], serão adotados esses parâmetros para o SARIMAX\n",
        "modelo_sarimax = SARIMAX(preco_petroleo_brent_resample, order=(2,1,1), seasonal_order=(1,1,0,7))\n",
        "resultado_sarimax = modelo_sarimax.fit()\n",
        "\n",
        "resultado_sarimax.summary()"
      ],
      "metadata": {
        "id": "JXwQq0hj2sZK",
        "colab": {
          "base_uri": "https://localhost:8080/",
          "height": 473
        },
        "outputId": "ec360140-3b7a-4ebc-ea0a-bc9145fe1a7c"
      },
      "execution_count": null,
      "outputs": [
        {
          "output_type": "execute_result",
          "data": {
            "text/plain": [
              "<class 'statsmodels.iolib.summary.Summary'>\n",
              "\"\"\"\n",
              "                                     SARIMAX Results                                      \n",
              "==========================================================================================\n",
              "Dep. Variable:     preco_petroleo_bruto_Brent_FOB   No. Observations:                13775\n",
              "Model:             SARIMAX(2, 1, 1)x(1, 1, [], 7)   Log Likelihood              -25737.978\n",
              "Date:                            Sat, 15 Feb 2025   AIC                          51485.956\n",
              "Time:                                    21:56:54   BIC                          51523.606\n",
              "Sample:                                05-20-1987   HQIC                         51498.501\n",
              "                                     - 02-03-2025                                         \n",
              "Covariance Type:                              opg                                         \n",
              "==============================================================================\n",
              "                 coef    std err          z      P>|z|      [0.025      0.975]\n",
              "------------------------------------------------------------------------------\n",
              "ar.L1          0.0582      0.024      2.476      0.013       0.012       0.104\n",
              "ar.L2         -0.1822      0.007    -27.891      0.000      -0.195      -0.169\n",
              "ma.L1         -0.2288      0.024     -9.587      0.000      -0.276      -0.182\n",
              "ar.S.L7       -0.5056      0.003   -146.877      0.000      -0.512      -0.499\n",
              "sigma2         2.4622      0.011    218.693      0.000       2.440       2.484\n",
              "===================================================================================\n",
              "Ljung-Box (L1) (Q):                   0.29   Jarque-Bera (JB):             83778.19\n",
              "Prob(Q):                              0.59   Prob(JB):                         0.00\n",
              "Heteroskedasticity (H):              12.77   Skew:                            -0.12\n",
              "Prob(H) (two-sided):                  0.00   Kurtosis:                        15.08\n",
              "===================================================================================\n",
              "\n",
              "Warnings:\n",
              "[1] Covariance matrix calculated using the outer product of gradients (complex-step).\n",
              "\"\"\""
            ],
            "text/html": [
              "<table class=\"simpletable\">\n",
              "<caption>SARIMAX Results</caption>\n",
              "<tr>\n",
              "  <th>Dep. Variable:</th>   <td>preco_petroleo_bruto_Brent_FOB</td> <th>  No. Observations:  </th>    <td>13775</td>  \n",
              "</tr>\n",
              "<tr>\n",
              "  <th>Model:</th>           <td>SARIMAX(2, 1, 1)x(1, 1, [], 7)</td> <th>  Log Likelihood     </th> <td>-25737.978</td>\n",
              "</tr>\n",
              "<tr>\n",
              "  <th>Date:</th>                   <td>Sat, 15 Feb 2025</td>        <th>  AIC                </th>  <td>51485.956</td>\n",
              "</tr>\n",
              "<tr>\n",
              "  <th>Time:</th>                       <td>21:56:54</td>            <th>  BIC                </th>  <td>51523.606</td>\n",
              "</tr>\n",
              "<tr>\n",
              "  <th>Sample:</th>                    <td>05-20-1987</td>           <th>  HQIC               </th>  <td>51498.501</td>\n",
              "</tr>\n",
              "<tr>\n",
              "  <th></th>                          <td>- 02-03-2025</td>          <th>                     </th>      <td> </td>    \n",
              "</tr>\n",
              "<tr>\n",
              "  <th>Covariance Type:</th>               <td>opg</td>              <th>                     </th>      <td> </td>    \n",
              "</tr>\n",
              "</table>\n",
              "<table class=\"simpletable\">\n",
              "<tr>\n",
              "     <td></td>        <th>coef</th>     <th>std err</th>      <th>z</th>      <th>P>|z|</th>  <th>[0.025</th>    <th>0.975]</th>  \n",
              "</tr>\n",
              "<tr>\n",
              "  <th>ar.L1</th>   <td>    0.0582</td> <td>    0.024</td> <td>    2.476</td> <td> 0.013</td> <td>    0.012</td> <td>    0.104</td>\n",
              "</tr>\n",
              "<tr>\n",
              "  <th>ar.L2</th>   <td>   -0.1822</td> <td>    0.007</td> <td>  -27.891</td> <td> 0.000</td> <td>   -0.195</td> <td>   -0.169</td>\n",
              "</tr>\n",
              "<tr>\n",
              "  <th>ma.L1</th>   <td>   -0.2288</td> <td>    0.024</td> <td>   -9.587</td> <td> 0.000</td> <td>   -0.276</td> <td>   -0.182</td>\n",
              "</tr>\n",
              "<tr>\n",
              "  <th>ar.S.L7</th> <td>   -0.5056</td> <td>    0.003</td> <td> -146.877</td> <td> 0.000</td> <td>   -0.512</td> <td>   -0.499</td>\n",
              "</tr>\n",
              "<tr>\n",
              "  <th>sigma2</th>  <td>    2.4622</td> <td>    0.011</td> <td>  218.693</td> <td> 0.000</td> <td>    2.440</td> <td>    2.484</td>\n",
              "</tr>\n",
              "</table>\n",
              "<table class=\"simpletable\">\n",
              "<tr>\n",
              "  <th>Ljung-Box (L1) (Q):</th>     <td>0.29</td>  <th>  Jarque-Bera (JB):  </th> <td>83778.19</td>\n",
              "</tr>\n",
              "<tr>\n",
              "  <th>Prob(Q):</th>                <td>0.59</td>  <th>  Prob(JB):          </th>   <td>0.00</td>  \n",
              "</tr>\n",
              "<tr>\n",
              "  <th>Heteroskedasticity (H):</th> <td>12.77</td> <th>  Skew:              </th>   <td>-0.12</td> \n",
              "</tr>\n",
              "<tr>\n",
              "  <th>Prob(H) (two-sided):</th>    <td>0.00</td>  <th>  Kurtosis:          </th>   <td>15.08</td> \n",
              "</tr>\n",
              "</table><br/><br/>Warnings:<br/>[1] Covariance matrix calculated using the outer product of gradients (complex-step)."
            ],
            "text/latex": "\\begin{center}\n\\begin{tabular}{lclc}\n\\toprule\n\\textbf{Dep. Variable:}          & preco\\_petroleo\\_bruto\\_Brent\\_FOB & \\textbf{  No. Observations:  } &   13775     \\\\\n\\textbf{Model:}                  &   SARIMAX(2, 1, 1)x(1, 1, [], 7)   & \\textbf{  Log Likelihood     } & -25737.978  \\\\\n\\textbf{Date:}                   &          Sat, 15 Feb 2025          & \\textbf{  AIC                } & 51485.956   \\\\\n\\textbf{Time:}                   &              21:56:54              & \\textbf{  BIC                } & 51523.606   \\\\\n\\textbf{Sample:}                 &             05-20-1987             & \\textbf{  HQIC               } & 51498.501   \\\\\n\\textbf{}                        &            - 02-03-2025            & \\textbf{                     } &             \\\\\n\\textbf{Covariance Type:}        &                opg                 & \\textbf{                     } &             \\\\\n\\bottomrule\n\\end{tabular}\n\\begin{tabular}{lcccccc}\n                 & \\textbf{coef} & \\textbf{std err} & \\textbf{z} & \\textbf{P$> |$z$|$} & \\textbf{[0.025} & \\textbf{0.975]}  \\\\\n\\midrule\n\\textbf{ar.L1}   &       0.0582  &        0.024     &     2.476  &         0.013        &        0.012    &        0.104     \\\\\n\\textbf{ar.L2}   &      -0.1822  &        0.007     &   -27.891  &         0.000        &       -0.195    &       -0.169     \\\\\n\\textbf{ma.L1}   &      -0.2288  &        0.024     &    -9.587  &         0.000        &       -0.276    &       -0.182     \\\\\n\\textbf{ar.S.L7} &      -0.5056  &        0.003     &  -146.877  &         0.000        &       -0.512    &       -0.499     \\\\\n\\textbf{sigma2}  &       2.4622  &        0.011     &   218.693  &         0.000        &        2.440    &        2.484     \\\\\n\\bottomrule\n\\end{tabular}\n\\begin{tabular}{lclc}\n\\textbf{Ljung-Box (L1) (Q):}     &  0.29 & \\textbf{  Jarque-Bera (JB):  } & 83778.19  \\\\\n\\textbf{Prob(Q):}                &  0.59 & \\textbf{  Prob(JB):          } &   0.00    \\\\\n\\textbf{Heteroskedasticity (H):} & 12.77 & \\textbf{  Skew:              } &  -0.12    \\\\\n\\textbf{Prob(H) (two-sided):}    &  0.00 & \\textbf{  Kurtosis:          } &  15.08    \\\\\n\\bottomrule\n\\end{tabular}\n%\\caption{SARIMAX Results}\n\\end{center}\n\nWarnings: \\newline\n [1] Covariance matrix calculated using the outer product of gradients (complex-step)."
          },
          "metadata": {},
          "execution_count": 82
        }
      ]
    },
    {
      "cell_type": "markdown",
      "source": [
        "## SARIMAX"
      ],
      "metadata": {
        "id": "Hd48qkk1evpZ"
      }
    },
    {
      "cell_type": "code",
      "source": [
        "# Definição da confiabilidade dos resultados, definindo os limites inferiores e superiores para plotagem do gráfico.\n",
        "predicao_sarimax = resultado_sarimax.get_prediction(start=-30)\n",
        "predicao_media = predicao_sarimax.predicted_mean\n",
        "\n",
        "intervalo_confianca = predicao_sarimax.conf_int()\n",
        "limite_inferior = intervalo_confianca.iloc[:,0]\n",
        "limite_superior = intervalo_confianca.iloc[:,1]\n",
        "\n",
        "limite_abaixo[0], limite_acima[0]"
      ],
      "metadata": {
        "id": "YwDAr_6u3S6h",
        "colab": {
          "base_uri": "https://localhost:8080/"
        },
        "outputId": "8bd54cc3-9f54-4dca-de47-f478fbaf0830"
      },
      "execution_count": null,
      "outputs": [
        {
          "output_type": "stream",
          "name": "stderr",
          "text": [
            "<ipython-input-83-417ecd578e94>:9: FutureWarning: Series.__getitem__ treating keys as positions is deprecated. In a future version, integer keys will always be treated as labels (consistent with DataFrame behavior). To access a value by position, use `ser.iloc[pos]`\n",
            "  limite_abaixo[0], limite_acima[0]\n"
          ]
        },
        {
          "output_type": "execute_result",
          "data": {
            "text/plain": [
              "(73.39025061657401, 79.54111106555862)"
            ]
          },
          "metadata": {},
          "execution_count": 83
        }
      ]
    },
    {
      "cell_type": "code",
      "source": [
        "## Gerando a predição para plotagem no gráfico\n",
        "datas_predicao = np.asarray(predicao_media.index)\n",
        "datas = np.asarray(preco_petroleo_brent_resample.index)"
      ],
      "metadata": {
        "id": "_S_azfRZ3XDH"
      },
      "execution_count": null,
      "outputs": []
    },
    {
      "cell_type": "code",
      "source": [
        "## Plotagem dos dados aplicando SARIMAX\n",
        "plt.figure(figsize=(10,6))\n",
        "plt.plot(datas_predicao,predicao_media.values, color=\"red\", label=\"Previsão\")\n",
        "plt.fill_between(datas_predicao, limite_inferior, limite_superior, color=\"red\")\n",
        "plt.plot(datas[-100:],preco_petroleo_brent_resample[-100:].values, color=\"blue\", label=\"Real\")\n",
        "plt.legend()\n",
        "plt.show()"
      ],
      "metadata": {
        "id": "j3BWtdPU3gBm",
        "colab": {
          "base_uri": "https://localhost:8080/",
          "height": 522
        },
        "outputId": "da6f77bd-90f7-4f15-b043-4a4283443cb0"
      },
      "execution_count": null,
      "outputs": [
        {
          "output_type": "display_data",
          "data": {
            "text/plain": [
              "<Figure size 1000x600 with 1 Axes>"
            ],
            "image/png": "[encoded data removed]"
          },
          "metadata": {}
        }
      ]
    },
    {
      "cell_type": "code",
      "source": [
        "# Avaliação das Métricas do modelo SARIMAX\n",
        "\n",
        "mae_sarimax = mean_absolute_error(preco_petroleo_brent_resample[-30:].values, predicao_media.values)\n",
        "mse_sarimax = mean_squared_error(preco_petroleo_brent_resample[-30:].values, predicao_media.values)\n",
        "rmse_sarimax = math.sqrt(mse_sarimax)\n",
        "mape_sarimax = mean_absolute_percentage_error(preco_petroleo_brent_resample[-30:].values, predicao_media.values)\n",
        "wmape_sarimax = wmape(preco_petroleo_brent_resample[-30:].values, predicao_media.values)\n",
        "\n",
        "print(f\"MAE - Erro Médio Absoluto: {mae_sarimax:.5f}\")\n",
        "print(f\"MSE - Erro Médio Quadrático: {mse_sarimax:.5f}\")\n",
        "print(f\"RMSE - Raiz do Erro Médio Quadrático: {rmse_sarimax:.5f}\")\n",
        "print(f\"MAPE - Erro Percentual Absoluto Médio: {mape_sarimax:.2%}\")\n",
        "print(f\"WMAPE - Erro Percentual Absoluto Médio Ponderado: {wmape_sarimax:.2%}\")\n"
      ],
      "metadata": {
        "id": "rmxW04Cz3poD",
        "colab": {
          "base_uri": "https://localhost:8080/"
        },
        "outputId": "e8dcb38c-6891-4a87-9b15-e7e5d6d58821"
      },
      "execution_count": null,
      "outputs": [
        {
          "output_type": "stream",
          "name": "stdout",
          "text": [
            "MAE - Erro Médio Absoluto: 0.99625\n",
            "MSE - Erro Médio Quadrático: 1.69494\n",
            "RMSE - Raiz do Erro Médio Quadrático: 1.30190\n",
            "MAPE - Erro Percentual Absoluto Médio: 1.25%\n",
            "WMAPE - Erro Percentual Absoluto Médio Ponderado: 105.82%\n"
          ]
        }
      ]
    },
    {
      "cell_type": "markdown",
      "source": [
        "## Realizando a previsão do Forecast com SARIMAX"
      ],
      "metadata": {
        "id": "AVA-RNfZlU_y"
      }
    },
    {
      "cell_type": "code",
      "source": [
        "forecast_sarimax = resultado_sarimax.get_forecast(steps=30)\n",
        "forecast_medio = forecast_sarimax.predicted_mean\n",
        "\n",
        "pd.DataFrame(forecast_sarimax.predicted_mean.head()).rename(columns={\"predicted_mean\":\"preco_petroleo_bruto_Brent_FOB\"})"
      ],
      "metadata": {
        "id": "0Q0RzWNV39Ll",
        "colab": {
          "base_uri": "https://localhost:8080/",
          "height": 206
        },
        "outputId": "359e2e23-df0e-4cbe-efd2-38d18f6caf4e"
      },
      "execution_count": null,
      "outputs": [
        {
          "output_type": "execute_result",
          "data": {
            "text/plain": [
              "            preco_petroleo_bruto_Brent_FOB\n",
              "2025-02-04                       76.155247\n",
              "2025-02-05                       75.232842\n",
              "2025-02-06                       74.747197\n",
              "2025-02-07                       74.666632\n",
              "2025-02-08                       74.665614"
            ],
            "text/html": [
              "\n",
              "  <div id=\"df-b4ed9608-ed88-453a-ad33-27bc8736c017\" class=\"colab-df-container\">\n",
              "    <div>\n",
              "<style scoped>\n",
              "    .dataframe tbody tr th:only-of-type {\n",
              "        vertical-align: middle;\n",
              "    }\n",
              "\n",
              "    .dataframe tbody tr th {\n",
              "        vertical-align: top;\n",
              "    }\n",
              "\n",
              "    .dataframe thead th {\n",
              "        text-align: right;\n",
              "    }\n",
              "</style>\n",
              "<table border=\"1\" class=\"dataframe\">\n",
              "  <thead>\n",
              "    <tr style=\"text-align: right;\">\n",
              "      <th></th>\n",
              "      <th>preco_petroleo_bruto_Brent_FOB</th>\n",
              "    </tr>\n",
              "  </thead>\n",
              "  <tbody>\n",
              "    <tr>\n",
              "      <th>2025-02-04</th>\n",
              "      <td>76.155247</td>\n",
              "    </tr>\n",
              "    <tr>\n",
              "      <th>2025-02-05</th>\n",
              "      <td>75.232842</td>\n",
              "    </tr>\n",
              "    <tr>\n",
              "      <th>2025-02-06</th>\n",
              "      <td>74.747197</td>\n",
              "    </tr>\n",
              "    <tr>\n",
              "      <th>2025-02-07</th>\n",
              "      <td>74.666632</td>\n",
              "    </tr>\n",
              "    <tr>\n",
              "      <th>2025-02-08</th>\n",
              "      <td>74.665614</td>\n",
              "    </tr>\n",
              "  </tbody>\n",
              "</table>\n",
              "</div>\n",
              "    <div class=\"colab-df-buttons\">\n",
              "\n",
              "  <div class=\"colab-df-container\">\n",
              "    <button class=\"colab-df-convert\" onclick=\"convertToInteractive('df-b4ed9608-ed88-453a-ad33-27bc8736c017')\"\n",
              "            title=\"Convert this dataframe to an interactive table.\"\n",
              "            style=\"display:none;\">\n",
              "\n",
              "  <svg xmlns=\"http://www.w3.org/2000/svg\" height=\"24px\" viewBox=\"0 -960 960 960\">\n",
              "    <path d=\"M120-120v-720h720v720H120Zm60-500h600v-160H180v160Zm220 220h160v-160H400v160Zm0 220h160v-160H400v160ZM180-400h160v-160H180v160Zm440 0h160v-160H620v160ZM180-180h160v-160H180v160Zm440 0h160v-160H620v160Z\"/>\n",
              "  </svg>\n",
              "    </button>\n",
              "\n",
              "  <style>\n",
              "    .colab-df-container {\n",
              "      display:flex;\n",
              "      gap: 12px;\n",
              "    }\n",
              "\n",
              "    .colab-df-convert {\n",
              "      background-color: #E8F0FE;\n",
              "      border: none;\n",
              "      border-radius: 50%;\n",
              "      cursor: pointer;\n",
              "      display: none;\n",
              "      fill: #1967D2;\n",
              "      height: 32px;\n",
              "      padding: 0 0 0 0;\n",
              "      width: 32px;\n",
              "    }\n",
              "\n",
              "    .colab-df-convert:hover {\n",
              "      background-color: #E2EBFA;\n",
              "      box-shadow: 0px 1px 2px rgba(60, 64, 67, 0.3), 0px 1px 3px 1px rgba(60, 64, 67, 0.15);\n",
              "      fill: #174EA6;\n",
              "    }\n",
              "\n",
              "    .colab-df-buttons div {\n",
              "      margin-bottom: 4px;\n",
              "    }\n",
              "\n",
              "    [theme=dark] .colab-df-convert {\n",
              "      background-color: #3B4455;\n",
              "      fill: #D2E3FC;\n",
              "    }\n",
              "\n",
              "    [theme=dark] .colab-df-convert:hover {\n",
              "      background-color: #434B5C;\n",
              "      box-shadow: 0px 1px 3px 1px rgba(0, 0, 0, 0.15);\n",
              "      filter: drop-shadow(0px 1px 2px rgba(0, 0, 0, 0.3));\n",
              "      fill: #FFFFFF;\n",
              "    }\n",
              "  </style>\n",
              "\n",
              "    <script>\n",
              "      const buttonEl =\n",
              "        document.querySelector('#df-b4ed9608-ed88-453a-ad33-27bc8736c017 button.colab-df-convert');\n",
              "      buttonEl.style.display =\n",
              "        google.colab.kernel.accessAllowed ? 'block' : 'none';\n",
              "\n",
              "      async function convertToInteractive(key) {\n",
              "        const element = document.querySelector('#df-b4ed9608-ed88-453a-ad33-27bc8736c017');\n",
              "        const dataTable =\n",
              "          await google.colab.kernel.invokeFunction('convertToInteractive',\n",
              "                                                    [key], {});\n",
              "        if (!dataTable) return;\n",
              "\n",
              "        const docLinkHtml = 'Like what you see? Visit the ' +\n",
              "          '<a target=\"_blank\" href=https://colab.research.google.com/notebooks/data_table.ipynb>data table notebook</a>'\n",
              "          + ' to learn more about interactive tables.';\n",
              "        element.innerHTML = '';\n",
              "        dataTable['output_type'] = 'display_data';\n",
              "        await google.colab.output.renderOutput(dataTable, element);\n",
              "        const docLink = document.createElement('div');\n",
              "        docLink.innerHTML = docLinkHtml;\n",
              "        element.appendChild(docLink);\n",
              "      }\n",
              "    </script>\n",
              "  </div>\n",
              "\n",
              "\n",
              "<div id=\"df-e9a4f71c-d4ea-45a7-b1ae-418ed58d7e8a\">\n",
              "  <button class=\"colab-df-quickchart\" onclick=\"quickchart('df-e9a4f71c-d4ea-45a7-b1ae-418ed58d7e8a')\"\n",
              "            title=\"Suggest charts\"\n",
              "            style=\"display:none;\">\n",
              "\n",
              "<svg xmlns=\"http://www.w3.org/2000/svg\" height=\"24px\"viewBox=\"0 0 24 24\"\n",
              "     width=\"24px\">\n",
              "    <g>\n",
              "        <path d=\"M19 3H5c-1.1 0-2 .9-2 2v14c0 1.1.9 2 2 2h14c1.1 0 2-.9 2-2V5c0-1.1-.9-2-2-2zM9 17H7v-7h2v7zm4 0h-2V7h2v10zm4 0h-2v-4h2v4z\"/>\n",
              "    </g>\n",
              "</svg>\n",
              "  </button>\n",
              "\n",
              "<style>\n",
              "  .colab-df-quickchart {\n",
              "      --bg-color: #E8F0FE;\n",
              "      --fill-color: #1967D2;\n",
              "      --hover-bg-color: #E2EBFA;\n",
              "      --hover-fill-color: #174EA6;\n",
              "      --disabled-fill-color: #AAA;\n",
              "      --disabled-bg-color: #DDD;\n",
              "  }\n",
              "\n",
              "  [theme=dark] .colab-df-quickchart {\n",
              "      --bg-color: #3B4455;\n",
              "      --fill-color: #D2E3FC;\n",
              "      --hover-bg-color: #434B5C;\n",
              "      --hover-fill-color: #FFFFFF;\n",
              "      --disabled-bg-color: #3B4455;\n",
              "      --disabled-fill-color: #666;\n",
              "  }\n",
              "\n",
              "  .colab-df-quickchart {\n",
              "    background-color: var(--bg-color);\n",
              "    border: none;\n",
              "    border-radius: 50%;\n",
              "    cursor: pointer;\n",
              "    display: none;\n",
              "    fill: var(--fill-color);\n",
              "    height: 32px;\n",
              "    padding: 0;\n",
              "    width: 32px;\n",
              "  }\n",
              "\n",
              "  .colab-df-quickchart:hover {\n",
              "    background-color: var(--hover-bg-color);\n",
              "    box-shadow: 0 1px 2px rgba(60, 64, 67, 0.3), 0 1px 3px 1px rgba(60, 64, 67, 0.15);\n",
              "    fill: var(--button-hover-fill-color);\n",
              "  }\n",
              "\n",
              "  .colab-df-quickchart-complete:disabled,\n",
              "  .colab-df-quickchart-complete:disabled:hover {\n",
              "    background-color: var(--disabled-bg-color);\n",
              "    fill: var(--disabled-fill-color);\n",
              "    box-shadow: none;\n",
              "  }\n",
              "\n",
              "  .colab-df-spinner {\n",
              "    border: 2px solid var(--fill-color);\n",
              "    border-color: transparent;\n",
              "    border-bottom-color: var(--fill-color);\n",
              "    animation:\n",
              "      spin 1s steps(1) infinite;\n",
              "  }\n",
              "\n",
              "  @keyframes spin {\n",
              "    0% {\n",
              "      border-color: transparent;\n",
              "      border-bottom-color: var(--fill-color);\n",
              "      border-left-color: var(--fill-color);\n",
              "    }\n",
              "    20% {\n",
              "      border-color: transparent;\n",
              "      border-left-color: var(--fill-color);\n",
              "      border-top-color: var(--fill-color);\n",
              "    }\n",
              "    30% {\n",
              "      border-color: transparent;\n",
              "      border-left-color: var(--fill-color);\n",
              "      border-top-color: var(--fill-color);\n",
              "      border-right-color: var(--fill-color);\n",
              "    }\n",
              "    40% {\n",
              "      border-color: transparent;\n",
              "      border-right-color: var(--fill-color);\n",
              "      border-top-color: var(--fill-color);\n",
              "    }\n",
              "    60% {\n",
              "      border-color: transparent;\n",
              "      border-right-color: var(--fill-color);\n",
              "    }\n",
              "    80% {\n",
              "      border-color: transparent;\n",
              "      border-right-color: var(--fill-color);\n",
              "      border-bottom-color: var(--fill-color);\n",
              "    }\n",
              "    90% {\n",
              "      border-color: transparent;\n",
              "      border-bottom-color: var(--fill-color);\n",
              "    }\n",
              "  }\n",
              "</style>\n",
              "\n",
              "  <script>\n",
              "    async function quickchart(key) {\n",
              "      const quickchartButtonEl =\n",
              "        document.querySelector('#' + key + ' button');\n",
              "      quickchartButtonEl.disabled = true;  // To prevent multiple clicks.\n",
              "      quickchartButtonEl.classList.add('colab-df-spinner');\n",
              "      try {\n",
              "        const charts = await google.colab.kernel.invokeFunction(\n",
              "            'suggestCharts', [key], {});\n",
              "      } catch (error) {\n",
              "        console.error('Error during call to suggestCharts:', error);\n",
              "      }\n",
              "      quickchartButtonEl.classList.remove('colab-df-spinner');\n",
              "      quickchartButtonEl.classList.add('colab-df-quickchart-complete');\n",
              "    }\n",
              "    (() => {\n",
              "      let quickchartButtonEl =\n",
              "        document.querySelector('#df-e9a4f71c-d4ea-45a7-b1ae-418ed58d7e8a button');\n",
              "      quickchartButtonEl.style.display =\n",
              "        google.colab.kernel.accessAllowed ? 'block' : 'none';\n",
              "    })();\n",
              "  </script>\n",
              "</div>\n",
              "\n",
              "    </div>\n",
              "  </div>\n"
            ],
            "application/vnd.google.colaboratory.intrinsic+json": {
              "type": "dataframe",
              "summary": "{\n  \"name\": \"pd\",\n  \"rows\": 5,\n  \"fields\": [\n    {\n      \"column\": \"preco_petroleo_bruto_Brent_FOB\",\n      \"properties\": {\n        \"dtype\": \"number\",\n        \"std\": 0.6387394436957793,\n        \"min\": 74.66561370709098,\n        \"max\": 76.1552472612084,\n        \"num_unique_values\": 5,\n        \"samples\": [\n          75.23284191188901,\n          74.66561370709098,\n          74.74719713461242\n        ],\n        \"semantic_type\": \"\",\n        \"description\": \"\"\n      }\n    }\n  ]\n}"
            }
          },
          "metadata": {},
          "execution_count": 87
        }
      ]
    },
    {
      "cell_type": "code",
      "source": [
        "intervalo_confianca_forecast = forecast_sarimax.conf_int()\n",
        "limite_inferior_f = intervalo_confianca_forecast.iloc[:,0]\n",
        "limite_superior_f = intervalo_confianca_forecast.iloc[:,1]\n",
        "\n",
        "limite_inferior_f[0], limite_superior_f[0]"
      ],
      "metadata": {
        "id": "FMRMJk0L4DbF",
        "colab": {
          "base_uri": "https://localhost:8080/"
        },
        "outputId": "3f27ef5f-e9b7-4358-b2e5-6ec481713d10"
      },
      "execution_count": null,
      "outputs": [
        {
          "output_type": "stream",
          "name": "stderr",
          "text": [
            "<ipython-input-88-427ead768587>:5: FutureWarning: Series.__getitem__ treating keys as positions is deprecated. In a future version, integer keys will always be treated as labels (consistent with DataFrame behavior). To access a value by position, use `ser.iloc[pos]`\n",
            "  limite_inferior_f[0], limite_superior_f[0]\n"
          ]
        },
        {
          "output_type": "execute_result",
          "data": {
            "text/plain": [
              "(73.0798170367161, 79.23067748570071)"
            ]
          },
          "metadata": {},
          "execution_count": 88
        }
      ]
    },
    {
      "cell_type": "code",
      "source": [
        "forecast_medio[0]"
      ],
      "metadata": {
        "id": "EXu3mu_D4Gmf",
        "colab": {
          "base_uri": "https://localhost:8080/"
        },
        "outputId": "e94eeac0-190c-4c6b-90c2-b832275efd9e"
      },
      "execution_count": null,
      "outputs": [
        {
          "output_type": "stream",
          "name": "stderr",
          "text": [
            "<ipython-input-89-022acc7499ae>:1: FutureWarning: Series.__getitem__ treating keys as positions is deprecated. In a future version, integer keys will always be treated as labels (consistent with DataFrame behavior). To access a value by position, use `ser.iloc[pos]`\n",
            "  forecast_medio[0]\n"
          ]
        },
        {
          "output_type": "execute_result",
          "data": {
            "text/plain": [
              "76.1552472612084"
            ]
          },
          "metadata": {},
          "execution_count": 89
        }
      ]
    },
    {
      "cell_type": "code",
      "source": [
        "datas_forecast = np.asarray(forecast_medio.index)\n",
        "datas = np.asarray(preco_petroleo_brent_resample.index)\n",
        "\n",
        "plt.figure(figsize=(15,10))\n",
        "\n",
        "plt.plot(datas_predicao,predicao_media.values, color=\"red\", label=\"Previsão\")\n",
        "plt.fill_between(datas_predicao, limite_inferior, limite_superior, color=\"pink\")\n",
        "\n",
        "plt.plot(datas_forecast,forecast_medio.values, color=\"green\", label=\"Previsão\")\n",
        "plt.fill_between(datas_forecast, limite_inferior_f, limite_superior_f, color=\"lightgreen\")\n",
        "\n",
        "plt.plot(datas[-100:],preco_petroleo_brent_resample[-100:].values, color=\"blue\", label=\"Real\")\n",
        "plt.legend(loc='upper left')\n",
        "plt.show()"
      ],
      "metadata": {
        "id": "xKU0BfB24JUS",
        "colab": {
          "base_uri": "https://localhost:8080/",
          "height": 609
        },
        "outputId": "ba0e06a9-ee8a-4180-d33a-fd357d4572d0"
      },
      "execution_count": null,
      "outputs": [
        {
          "output_type": "display_data",
          "data": {
            "text/plain": [
              "<Figure size 1500x1000 with 1 Axes>"
            ],
            "image/png": "[encoded data removed]"
          },
          "metadata": {}
        }
      ]
    },
    {
      "cell_type": "markdown",
      "source": [
        "Vamos importar nosso modelo para um arquivo joblib"
      ],
      "metadata": {
        "id": "szYlIhgSl6eM"
      }
    },
    {
      "cell_type": "code",
      "source": [
        "import os\n",
        "import joblib\n",
        "\n",
        "# Create the 'modelo' directory if it doesn't exist\n",
        "if not os.path.exists('modelo'):\n",
        "    os.makedirs('modelo')\n",
        "\n",
        "# Now you can save the model\n",
        "joblib.dump(modelo_sarimax, 'modelo/sarimax.joblib', compress=3)"
      ],
      "metadata": {
        "colab": {
          "base_uri": "https://localhost:8080/"
        },
        "id": "B4Ac3yral3li",
        "outputId": "fd25f6f8-8fcf-4e30-f37a-65acd3a2a46e"
      },
      "execution_count": null,
      "outputs": [
        {
          "output_type": "execute_result",
          "data": {
            "text/plain": [
              "['modelo/sarimax.joblib']"
            ]
          },
          "metadata": {},
          "execution_count": 95
        }
      ]
    },
    {
      "cell_type": "markdown",
      "source": [
        "A última etapa é extrair essas previsões para um arquivo \".csv\", para que possamos utilizar na interface de Power BI."
      ],
      "metadata": {
        "id": "N9_mgIOiXJ3K"
      }
    },
    {
      "cell_type": "code",
      "source": [
        "# Criar DataFrame com as duas colunas, arredondando a coluna \"preco\" para 2 casas decimais\n",
        "df_forecast = pd.DataFrame({\n",
        "    \"data\": datas_forecast,\n",
        "    \"preco\": forecast_medio.values\n",
        "})\n",
        "\n",
        "# Arredondar a coluna \"preco\" para 2 casas decimais\n",
        "df_forecast[\"preco\"] = df_forecast[\"preco\"].round(2)\n",
        "\n",
        "# Salvar o DataFrame em um arquivo CSV\n",
        "df_forecast.to_csv(\"previsoes.csv\", index=False)"
      ],
      "metadata": {
        "id": "tT5SZ9ctKLLo"
      },
      "execution_count": null,
      "outputs": []
    }
  ]
}